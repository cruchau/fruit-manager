{
 "cells": [
  {
   "cell_type": "code",
   "execution_count": 1,
   "id": "daa4366b",
   "metadata": {},
   "outputs": [],
   "source": [
    "inventaire = {\n",
    "    \"bananes\":120, \n",
    "    \"mangues\":85,\n",
    "    \"ananas\":45,\n",
    "    \"noix de coco\":60,\n",
    "    \"papayes\":30,\n",
    "\n",
    "}"
   ]
  },
  {
   "cell_type": "code",
   "execution_count": 4,
   "id": "ef5de92d",
   "metadata": {},
   "outputs": [],
   "source": [
    "def afficher_inventaire(inventaire): \n",
    "    print(\"Inventaire actuel de la plantation:\")\n",
    "    for fruits, quantite in inventaire.items():\n",
    "        print(f\"- {fruits.capitalize()} : {quantite} unites\")"
   ]
  },
  {
   "cell_type": "code",
   "execution_count": null,
   "id": "1210871c",
   "metadata": {},
   "outputs": [],
   "source": [
    "def recolter(inventaire, fruit, quantite):\n",
    "    inventaire[fruit] = inventaire.get(fruit,0) + quantite # r returns the value for the specified key if the key exists in the dictionary\n",
    "    print(f\"\\n Recolte {quantite} {fruit} supplementaire\")"
   ]
  },
  {
   "cell_type": "code",
   "execution_count": 5,
   "id": "119068d9",
   "metadata": {},
   "outputs": [
    {
     "name": "stdout",
     "output_type": "stream",
     "text": [
      "Inventaire actuel de la plantation:\n",
      "- Bananes : 120 unites\n",
      "- Mangues : 85 unites\n",
      "- Ananas : 45 unites\n",
      "- Noix de coco : 60 unites\n",
      "- Papayes : 30 unites\n"
     ]
    }
   ],
   "source": [
    "afficher_inventaire(inventaire)"
   ]
  },
  {
   "cell_type": "code",
   "execution_count": 7,
   "id": "0fac8478",
   "metadata": {},
   "outputs": [
    {
     "name": "stdout",
     "output_type": "stream",
     "text": [
      "\n",
      " Recolte 10 bananes supplementaire\n"
     ]
    }
   ],
   "source": [
    "recolter(inventaire, \"bananes\", 10)"
   ]
  },
  {
   "cell_type": "code",
   "execution_count": 8,
   "id": "0cc9e985",
   "metadata": {},
   "outputs": [
    {
     "name": "stdout",
     "output_type": "stream",
     "text": [
      "Inventaire actuel de la plantation:\n",
      "- Bananes : 130 unites\n",
      "- Mangues : 85 unites\n",
      "- Ananas : 45 unites\n",
      "- Noix de coco : 60 unites\n",
      "- Papayes : 30 unites\n"
     ]
    }
   ],
   "source": [
    "afficher_inventaire(inventaire)"
   ]
  },
  {
   "cell_type": "code",
   "execution_count": null,
   "id": "f0a63864",
   "metadata": {},
   "outputs": [],
   "source": []
  }
 ],
 "metadata": {
  "kernelspec": {
   "display_name": "3.12.10",
   "language": "python",
   "name": "python3"
  },
  "language_info": {
   "codemirror_mode": {
    "name": "ipython",
    "version": 3
   },
   "file_extension": ".py",
   "mimetype": "text/x-python",
   "name": "python",
   "nbconvert_exporter": "python",
   "pygments_lexer": "ipython3",
   "version": "3.12.10"
  }
 },
 "nbformat": 4,
 "nbformat_minor": 5
}
